{
  "cells": [
    {
      "cell_type": "markdown",
      "metadata": {
        "id": "23Z61AIJ4AGg"
      },
      "source": [
        "key1: VOVS4AVLLI4O60VB  \n",
        "key2: FL9L3QZH98T5M475  \n",
        "key3: VHR4EUBFI6V8OWBN  \n",
        "key4: NLLJW4Y93AVKHNNR  \n",
        "key5: V9UWM1TL37HYVQ31"
      ]
    },
    {
      "cell_type": "markdown",
      "metadata": {
        "id": "tyEtNpimwZbw"
      },
      "source": [
        "#Daily Main Collection"
      ]
    },
    {
      "cell_type": "code",
      "execution_count": 8,
      "metadata": {},
      "outputs": [
        {
          "name": "stdout",
          "output_type": "stream",
          "text": [
            "2025-01-06\n"
          ]
        }
      ],
      "source": [
        "import requests\n",
        "import csv\n",
        "from datetime import datetime\n",
        "\n",
        "# Replace with your Alpha Vantage API key\n",
        "API_KEY = \"FL9L3QZH98T5M475\"\n",
        "\n",
        "# Define the symbol and date range\n",
        "SYMBOL = \"IBM\"  # Replace with your desired stock symbol\n",
        "START_DATE = datetime(2021, 12, 1)  # Start date: 1st December 2021\n",
        "END_DATE = datetime(2025, 1, 12)    # End date: 12th January 2025\n",
        "\n",
        "# API URL\n",
        "url = f\"https://www.alphavantage.co/query?function=TIME_SERIES_DAILY&symbol={SYMBOL}&outputsize=full&apikey={API_KEY}\"\n",
        "\n",
        "# Fetch data from the API\n",
        "response = requests.get(url)\n",
        "data = response.json()\n",
        "\n",
        "# Check if the API returned an error\n",
        "if \"Error Message\" in data:\n",
        "    print(\"Error:\", data[\"Error Message\"])\n",
        "    exit()\n",
        "\n",
        "# Extract the time series data\n",
        "time_series = data.get(\"Time Series (Daily)\", {})\n",
        "\n",
        "# Filter data within the specified date range\n",
        "filtered_data = []\n",
        "for date, values in time_series.items():\n",
        "    date_obj = datetime.strptime(date, \"%Y-%m-%d\")\n",
        "    if START_DATE <= date_obj <= END_DATE:\n",
        "        filtered_data.append({\n",
        "            \"Date\": date,\n",
        "            \"Open\": values[\"1. open\"],\n",
        "            \"High\": values[\"2. high\"],\n",
        "            \"Low\": values[\"3. low\"],\n",
        "            \"Close\": values[\"4. close\"],\n",
        "            \"Volume\": values[\"5. volume\"]\n",
        "        })\n",
        "\n",
        "# Sort the data by date (oldest first)\n",
        "filtered_data.sort(key=lambda x: x[\"Date\"])\n",
        "\n",
        "# Save the filtered data to a CSV file\n",
        "csv_file = \"dataset_daily.csv\"\n",
        "with open(csv_file, mode=\"w\", newline=\"\") as file:\n",
        "    writer = csv.DictWriter(file, fieldnames=[\"Date\", \"Open\", \"High\", \"Low\", \"Close\", \"Volume\"])\n",
        "    writer.writeheader()\n",
        "    writer.writerows(filtered_data)\n",
        "\n",
        "print(f\"Data saved to {csv_file}\")"
      ]
    }
  ],
  "metadata": {
    "colab": {
      "provenance": []
    },
    "kernelspec": {
      "display_name": "Python 3",
      "name": "python3"
    },
    "language_info": {
      "codemirror_mode": {
        "name": "ipython",
        "version": 3
      },
      "file_extension": ".py",
      "mimetype": "text/x-python",
      "name": "python",
      "nbconvert_exporter": "python",
      "pygments_lexer": "ipython3",
      "version": "3.12.2"
    }
  },
  "nbformat": 4,
  "nbformat_minor": 0
}
