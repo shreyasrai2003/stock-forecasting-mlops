{
  "cells": [
    {
      "cell_type": "markdown",
      "metadata": {
        "id": "23Z61AIJ4AGg"
      },
      "source": [
        "key1: VOVS4AVLLI4O60VB\n",
        "key2: FL9L3QZH98T5M475\n",
        "key3: VHR4EUBFI6V8OWBN\n"
      ]
    },
    {
      "cell_type": "markdown",
      "metadata": {
        "id": "Bmnve6F_yXFR"
      },
      "source": [
        "key4: NLLJW4Y93AVKHNNR\n",
        "key5: V9UWM1TL37HYVQ31"
      ]
    },
    {
      "cell_type": "markdown",
      "metadata": {
        "id": "tyEtNpimwZbw"
      },
      "source": [
        "#Intraday"
      ]
    },
    {
      "cell_type": "code",
      "execution_count": null,
      "metadata": {
        "colab": {
          "base_uri": "https://localhost:8080/"
        },
        "id": "IWotAWkF3KbJ",
        "outputId": "531df17a-69ef-4021-c7c1-f512953133e2"
      },
      "outputs": [
        {
          "name": "stdout",
          "output_type": "stream",
          "text": [
            "{'Meta Data': {'1. Information': 'Intraday (5min) open, high, low, close prices and volume', '2. Symbol': 'IBM', '3. Last Refreshed': '2024-12-23 19:55:00', '4. Interval': '5min', '5. Output Size': 'Compact', '6. Time Zone': 'US/Eastern'}, 'Time Series (5min)': {'2024-12-23 19:55:00': {'1. open': '221.6189', '2. high': '221.9300', '3. low': '221.6189', '4. close': '221.7900', '5. volume': '353'}, '2024-12-23 19:50:00': {'1. open': '222.2000', '2. high': '222.2000', '3. low': '221.7900', '4. close': '221.7900', '5. volume': '7'}, '2024-12-23 19:45:00': {'1. open': '221.8000', '2. high': '221.8000', '3. low': '221.8000', '4. close': '221.8000', '5. volume': '1'}, '2024-12-23 19:40:00': {'1. open': '221.9500', '2. high': '221.9600', '3. low': '221.9400', '4. close': '221.9400', '5. volume': '7'}, '2024-12-23 19:35:00': {'1. open': '221.7100', '2. high': '221.7100', '3. low': '221.7100', '4. close': '221.7100', '5. volume': '1'}, '2024-12-23 19:30:00': {'1. open': '221.7000', '2. high': '221.7000', '3. low': '221.7000', '4. close': '221.7000', '5. volume': '1'}, '2024-12-23 19:25:00': {'1. open': '221.7100', '2. high': '221.7100', '3. low': '221.7100', '4. close': '221.7100', '5. volume': '3'}, '2024-12-23 19:20:00': {'1. open': '221.6000', '2. high': '221.6000', '3. low': '221.6000', '4. close': '221.6000', '5. volume': '2'}, '2024-12-23 19:15:00': {'1. open': '222.1900', '2. high': '222.1900', '3. low': '221.9600', '4. close': '221.9600', '5. volume': '21'}, '2024-12-23 19:10:00': {'1. open': '221.7700', '2. high': '221.9500', '3. low': '221.7300', '4. close': '221.9500', '5. volume': '23'}, '2024-12-23 19:00:00': {'1. open': '221.9300', '2. high': '221.9300', '3. low': '221.9300', '4. close': '221.9300', '5. volume': '503973'}, '2024-12-23 18:55:00': {'1. open': '221.9500', '2. high': '221.9500', '3. low': '221.9500', '4. close': '221.9500', '5. volume': '5'}, '2024-12-23 18:50:00': {'1. open': '222.0100', '2. high': '222.0100', '3. low': '221.9600', '4. close': '221.9600', '5. volume': '11'}, '2024-12-23 18:45:00': {'1. open': '222.1900', '2. high': '222.2000', '3. low': '222.1900', '4. close': '222.2000', '5. volume': '152'}, '2024-12-23 18:40:00': {'1. open': '222.1988', '2. high': '222.1988', '3. low': '222.1988', '4. close': '222.1988', '5. volume': '1'}, '2024-12-23 18:30:00': {'1. open': '221.9300', '2. high': '221.9300', '3. low': '221.9300', '4. close': '221.9300', '5. volume': '503973'}, '2024-12-23 18:25:00': {'1. open': '221.6000', '2. high': '221.9700', '3. low': '221.6000', '4. close': '221.6112', '5. volume': '43'}, '2024-12-23 18:15:00': {'1. open': '222.1000', '2. high': '222.1000', '3. low': '221.6920', '4. close': '221.6920', '5. volume': '100'}, '2024-12-23 18:10:00': {'1. open': '222.2000', '2. high': '222.2000', '3. low': '222.2000', '4. close': '222.2000', '5. volume': '10'}, '2024-12-23 18:05:00': {'1. open': '222.1100', '2. high': '222.1100', '3. low': '222.1000', '4. close': '222.1000', '5. volume': '57'}, '2024-12-23 18:00:00': {'1. open': '222.2000', '2. high': '222.2000', '3. low': '222.1000', '4. close': '222.1000', '5. volume': '27'}, '2024-12-23 17:55:00': {'1. open': '222.1000', '2. high': '222.1000', '3. low': '222.1000', '4. close': '222.1000', '5. volume': '5'}, '2024-12-23 17:50:00': {'1. open': '222.1000', '2. high': '222.1000', '3. low': '222.1000', '4. close': '222.1000', '5. volume': '50'}, '2024-12-23 17:35:00': {'1. open': '222.1000', '2. high': '222.1000', '3. low': '222.1000', '4. close': '222.1000', '5. volume': '1'}, '2024-12-23 17:30:00': {'1. open': '222.2000', '2. high': '222.2000', '3. low': '222.1000', '4. close': '222.1000', '5. volume': '4'}, '2024-12-23 17:25:00': {'1. open': '222.2000', '2. high': '222.2000', '3. low': '221.9600', '4. close': '221.9600', '5. volume': '12'}, '2024-12-23 17:20:00': {'1. open': '222.0900', '2. high': '222.0900', '3. low': '222.0900', '4. close': '222.0900', '5. volume': '1'}, '2024-12-23 17:15:00': {'1. open': '221.9300', '2. high': '221.9700', '3. low': '221.9300', '4. close': '221.9700', '5. volume': '10'}, '2024-12-23 17:10:00': {'1. open': '221.9700', '2. high': '222.2000', '3. low': '221.9700', '4. close': '222.2000', '5. volume': '8'}, '2024-12-23 17:05:00': {'1. open': '222.1000', '2. high': '222.2000', '3. low': '221.9300', '4. close': '222.1000', '5. volume': '9'}, '2024-12-23 17:00:00': {'1. open': '221.9600', '2. high': '222.0900', '3. low': '221.9000', '4. close': '222.0900', '5. volume': '50'}, '2024-12-23 16:55:00': {'1. open': '221.9500', '2. high': '222.1900', '3. low': '221.8900', '4. close': '221.9000', '5. volume': '60'}, '2024-12-23 16:50:00': {'1. open': '222.0000', '2. high': '222.0000', '3. low': '221.9300', '4. close': '221.9300', '5. volume': '28'}, '2024-12-23 16:45:00': {'1. open': '222.0000', '2. high': '222.0000', '3. low': '221.9300', '4. close': '221.9300', '5. volume': '6216'}, '2024-12-23 16:40:00': {'1. open': '221.9600', '2. high': '222.1800', '3. low': '221.9300', '4. close': '221.9500', '5. volume': '300'}, '2024-12-23 16:35:00': {'1. open': '222.2200', '2. high': '222.2200', '3. low': '221.9300', '4. close': '222.1900', '5. volume': '118'}, '2024-12-23 16:30:00': {'1. open': '222.3000', '2. high': '222.3000', '3. low': '221.9700', '4. close': '221.9700', '5. volume': '6'}, '2024-12-23 16:25:00': {'1. open': '222.2500', '2. high': '222.2500', '3. low': '222.2500', '4. close': '222.2500', '5. volume': '3'}, '2024-12-23 16:20:00': {'1. open': '221.9300', '2. high': '221.9300', '3. low': '221.9300', '4. close': '221.9300', '5. volume': '718'}, '2024-12-23 16:15:00': {'1. open': '221.9300', '2. high': '225.2000', '3. low': '221.3800', '4. close': '221.6600', '5. volume': '33'}, '2024-12-23 16:10:00': {'1. open': '221.9300', '2. high': '221.9300', '3. low': '221.4900', '4. close': '221.4900', '5. volume': '504438'}, '2024-12-23 16:05:00': {'1. open': '221.9300', '2. high': '221.9800', '3. low': '221.9300', '4. close': '221.9800', '5. volume': '11203'}, '2024-12-23 16:00:00': {'1. open': '221.8600', '2. high': '222.3000', '3. low': '221.8200', '4. close': '221.9300', '5. volume': '1141062'}, '2024-12-23 15:55:00': {'1. open': '221.9800', '2. high': '222.2300', '3. low': '221.7600', '4. close': '221.8400', '5. volume': '221092'}, '2024-12-23 15:50:00': {'1. open': '221.9800', '2. high': '222.1700', '3. low': '221.9023', '4. close': '222.0150', '5. volume': '73887'}, '2024-12-23 15:45:00': {'1. open': '221.9400', '2. high': '222.1500', '3. low': '221.8100', '4. close': '221.8950', '5. volume': '40829'}, '2024-12-23 15:40:00': {'1. open': '221.6400', '2. high': '222.1190', '3. low': '221.6000', '4. close': '221.8750', '5. volume': '39287'}, '2024-12-23 15:35:00': {'1. open': '221.4600', '2. high': '221.6629', '3. low': '221.3300', '4. close': '221.5900', '5. volume': '29535'}, '2024-12-23 15:30:00': {'1. open': '221.5200', '2. high': '221.6000', '3. low': '221.3710', '4. close': '221.4600', '5. volume': '25279'}, '2024-12-23 15:25:00': {'1. open': '221.4300', '2. high': '221.6500', '3. low': '221.4300', '4. close': '221.5210', '5. volume': '22804'}, '2024-12-23 15:20:00': {'1. open': '221.3900', '2. high': '221.4700', '3. low': '221.2200', '4. close': '221.4100', '5. volume': '18942'}, '2024-12-23 15:15:00': {'1. open': '221.6500', '2. high': '221.6500', '3. low': '221.2600', '4. close': '221.3500', '5. volume': '29176'}, '2024-12-23 15:10:00': {'1. open': '221.2396', '2. high': '221.6100', '3. low': '221.1600', '4. close': '221.5500', '5. volume': '18731'}, '2024-12-23 15:05:00': {'1. open': '221.4550', '2. high': '221.7400', '3. low': '221.2200', '4. close': '221.2950', '5. volume': '28591'}, '2024-12-23 15:00:00': {'1. open': '221.4500', '2. high': '221.5900', '3. low': '221.3400', '4. close': '221.5000', '5. volume': '24884'}, '2024-12-23 14:55:00': {'1. open': '221.4400', '2. high': '221.5888', '3. low': '221.3900', '4. close': '221.4600', '5. volume': '21854'}, '2024-12-23 14:50:00': {'1. open': '221.5800', '2. high': '221.7000', '3. low': '221.3625', '4. close': '221.3810', '5. volume': '24665'}, '2024-12-23 14:45:00': {'1. open': '221.5600', '2. high': '221.6500', '3. low': '221.4600', '4. close': '221.6300', '5. volume': '18221'}, '2024-12-23 14:40:00': {'1. open': '221.5250', '2. high': '221.6300', '3. low': '221.4900', '4. close': '221.5300', '5. volume': '14694'}, '2024-12-23 14:35:00': {'1. open': '221.9600', '2. high': '221.9700', '3. low': '221.4500', '4. close': '221.4700', '5. volume': '23279'}, '2024-12-23 14:30:00': {'1. open': '221.9600', '2. high': '222.0800', '3. low': '221.8700', '4. close': '221.9500', '5. volume': '27932'}, '2024-12-23 14:25:00': {'1. open': '222.0601', '2. high': '222.1000', '3. low': '221.8901', '4. close': '221.9524', '5. volume': '12145'}, '2024-12-23 14:20:00': {'1. open': '222.1650', '2. high': '222.2100', '3. low': '222.0400', '4. close': '222.0950', '5. volume': '62691'}, '2024-12-23 14:15:00': {'1. open': '222.1850', '2. high': '222.3500', '3. low': '222.1500', '4. close': '222.1575', '5. volume': '18909'}, '2024-12-23 14:10:00': {'1. open': '222.2800', '2. high': '222.2800', '3. low': '222.1400', '4. close': '222.1850', '5. volume': '9950'}, '2024-12-23 14:05:00': {'1. open': '222.1943', '2. high': '222.2732', '3. low': '222.1800', '4. close': '222.2375', '5. volume': '9647'}, '2024-12-23 14:00:00': {'1. open': '222.3000', '2. high': '222.4600', '3. low': '222.1100', '4. close': '222.1600', '5. volume': '176483'}, '2024-12-23 13:55:00': {'1. open': '222.2200', '2. high': '222.3783', '3. low': '222.1500', '4. close': '222.3783', '5. volume': '11710'}, '2024-12-23 13:50:00': {'1. open': '222.1292', '2. high': '222.3700', '3. low': '222.0811', '4. close': '222.2100', '5. volume': '12519'}, '2024-12-23 13:45:00': {'1. open': '222.0920', '2. high': '222.1600', '3. low': '222.0200', '4. close': '222.1100', '5. volume': '10259'}, '2024-12-23 13:40:00': {'1. open': '222.2500', '2. high': '222.2664', '3. low': '222.0300', '4. close': '222.0950', '5. volume': '10457'}, '2024-12-23 13:35:00': {'1. open': '221.9800', '2. high': '222.2100', '3. low': '221.8600', '4. close': '222.2100', '5. volume': '12739'}, '2024-12-23 13:30:00': {'1. open': '222.2000', '2. high': '222.2600', '3. low': '222.0300', '4. close': '222.0316', '5. volume': '7372'}, '2024-12-23 13:25:00': {'1. open': '221.9901', '2. high': '222.2600', '3. low': '221.9901', '4. close': '222.2600', '5. volume': '9543'}, '2024-12-23 13:20:00': {'1. open': '222.2100', '2. high': '222.2100', '3. low': '221.9500', '4. close': '222.0753', '5. volume': '12891'}, '2024-12-23 13:15:00': {'1. open': '222.5250', '2. high': '222.6100', '3. low': '221.9600', '4. close': '222.1700', '5. volume': '20619'}, '2024-12-23 13:10:00': {'1. open': '222.3900', '2. high': '222.6200', '3. low': '222.3900', '4. close': '222.4900', '5. volume': '33081'}, '2024-12-23 13:05:00': {'1. open': '222.3200', '2. high': '222.5700', '3. low': '222.2300', '4. close': '222.4600', '5. volume': '19715'}, '2024-12-23 13:00:00': {'1. open': '222.0900', '2. high': '222.3500', '3. low': '222.0200', '4. close': '222.3200', '5. volume': '12970'}, '2024-12-23 12:55:00': {'1. open': '222.4400', '2. high': '222.5200', '3. low': '222.1300', '4. close': '222.1500', '5. volume': '13783'}, '2024-12-23 12:50:00': {'1. open': '222.4200', '2. high': '222.6200', '3. low': '222.3336', '4. close': '222.4700', '5. volume': '14250'}, '2024-12-23 12:45:00': {'1. open': '222.2700', '2. high': '222.4900', '3. low': '222.2700', '4. close': '222.4200', '5. volume': '12142'}, '2024-12-23 12:40:00': {'1. open': '222.3850', '2. high': '222.5300', '3. low': '222.1574', '4. close': '222.3450', '5. volume': '51873'}, '2024-12-23 12:35:00': {'1. open': '222.2200', '2. high': '222.3878', '3. low': '222.0000', '4. close': '222.3197', '5. volume': '15243'}, '2024-12-23 12:30:00': {'1. open': '222.1900', '2. high': '222.4199', '3. low': '222.1500', '4. close': '222.4199', '5. volume': '14814'}, '2024-12-23 12:25:00': {'1. open': '221.9500', '2. high': '222.3500', '3. low': '221.9500', '4. close': '222.2600', '5. volume': '9368'}, '2024-12-23 12:20:00': {'1. open': '222.0250', '2. high': '222.0400', '3. low': '221.7000', '4. close': '221.9950', '5. volume': '25448'}, '2024-12-23 12:15:00': {'1. open': '222.5246', '2. high': '222.5246', '3. low': '221.9200', '4. close': '222.1050', '5. volume': '11924'}, '2024-12-23 12:10:00': {'1. open': '222.2200', '2. high': '222.6500', '3. low': '222.1700', '4. close': '222.6000', '5. volume': '20157'}, '2024-12-23 12:05:00': {'1. open': '222.1200', '2. high': '222.1500', '3. low': '221.9600', '4. close': '222.0550', '5. volume': '14888'}, '2024-12-23 12:00:00': {'1. open': '222.3400', '2. high': '222.4599', '3. low': '222.1200', '4. close': '222.1300', '5. volume': '10662'}, '2024-12-23 11:55:00': {'1. open': '222.2000', '2. high': '222.4400', '3. low': '222.1400', '4. close': '222.3250', '5. volume': '13506'}, '2024-12-23 11:50:00': {'1. open': '221.8950', '2. high': '222.2800', '3. low': '221.8950', '4. close': '222.2450', '5. volume': '14096'}, '2024-12-23 11:45:00': {'1. open': '221.8000', '2. high': '222.0000', '3. low': '221.6100', '4. close': '221.8800', '5. volume': '20773'}, '2024-12-23 11:40:00': {'1. open': '221.4600', '2. high': '221.8000', '3. low': '221.4200', '4. close': '221.7425', '5. volume': '15792'}, '2024-12-23 11:35:00': {'1. open': '221.6000', '2. high': '221.6800', '3. low': '221.4001', '4. close': '221.4400', '5. volume': '17047'}, '2024-12-23 11:30:00': {'1. open': '221.5200', '2. high': '221.8700', '3. low': '221.5050', '4. close': '221.6000', '5. volume': '24751'}, '2024-12-23 11:25:00': {'1. open': '221.3650', '2. high': '221.5100', '3. low': '221.2601', '4. close': '221.4600', '5. volume': '22457'}, '2024-12-23 11:20:00': {'1. open': '221.3950', '2. high': '221.5400', '3. low': '221.3600', '4. close': '221.4000', '5. volume': '16271'}, '2024-12-23 11:15:00': {'1. open': '221.3700', '2. high': '221.4600', '3. low': '221.2100', '4. close': '221.4550', '5. volume': '17476'}}}\n"
          ]
        }
      ],
      "source": [
        "import requests\n",
        "\n",
        "# replace the \"demo\" apikey below with your own key from https://www.alphavantage.co/support/#api-key\n",
        "url = 'https://www.alphavantage.co/query?function=TIME_SERIES_INTRADAY&symbol=IBM&utputsize=full&interval=5min&apikey=VOVS4AVLLI4O60VB'\n",
        "r = requests.get(url)\n",
        "data = r.json()\n",
        "\n",
        "print(data)"
      ]
    },
    {
      "cell_type": "code",
      "execution_count": null,
      "metadata": {
        "colab": {
          "base_uri": "https://localhost:8080/"
        },
        "id": "eXX5Z5Kowpou",
        "outputId": "032e61bd-cbd5-4c82-8d19-9a1e5a9714c9"
      },
      "outputs": [
        {
          "name": "stdout",
          "output_type": "stream",
          "text": [
            "<class 'pandas.core.frame.DataFrame'>\n",
            "DatetimeIndex: 3523 entries, 2024-11-25 04:00:00 to 2024-12-23 19:55:00\n",
            "Data columns (total 5 columns):\n",
            " #   Column  Non-Null Count  Dtype  \n",
            "---  ------  --------------  -----  \n",
            " 0   Open    3523 non-null   float64\n",
            " 1   High    3523 non-null   float64\n",
            " 2   Low     3523 non-null   float64\n",
            " 3   Close   3523 non-null   float64\n",
            " 4   Volume  3523 non-null   int64  \n",
            "dtypes: float64(4), int64(1)\n",
            "memory usage: 165.1 KB\n",
            "None\n",
            "                       Open    High     Low   Close  Volume\n",
            "2024-11-25 04:00:00  222.75  223.31  222.75  223.31      90\n",
            "2024-11-25 04:05:00  223.83  223.83  223.06  223.59     211\n",
            "2024-11-25 04:10:00  223.72  223.84  223.26  223.48     171\n",
            "2024-11-25 04:15:00  223.67  223.75  223.29  223.75     375\n",
            "2024-11-25 04:20:00  223.70  223.71  223.36  223.36      99\n"
          ]
        }
      ],
      "source": [
        "import requests\n",
        "import pandas as pd\n",
        "\n",
        "# API details\n",
        "API_KEY = 'V9UWM1TL37HYVQ31'\n",
        "SYMBOL = 'IBM'  # Example symbol\n",
        "URL = f'https://www.alphavantage.co/query?function=TIME_SERIES_INTRADAY&symbol={SYMBOL}&interval=5min&outputsize=full&apikey={API_KEY}'\n",
        "\n",
        "# Fetch data from the API\n",
        "response = requests.get(URL)\n",
        "data = response.json()\n",
        "\n",
        "# Extract the time series data\n",
        "time_series = data.get(\"Time Series (5min)\", {})\n",
        "\n",
        "if time_series:\n",
        "    # Convert the time series data into a DataFrame\n",
        "    df = pd.DataFrame.from_dict(time_series, orient='index')\n",
        "\n",
        "    # Rename columns for better readability\n",
        "    df.columns = [\"Open\", \"High\", \"Low\", \"Close\", \"Volume\"]\n",
        "\n",
        "    # Convert index to datetime\n",
        "    df.index = pd.to_datetime(df.index)\n",
        "    df.sort_index(inplace=True)  # Ensure data is sorted by time\n",
        "\n",
        "    # Convert all values to numeric\n",
        "    df = df.apply(pd.to_numeric)\n",
        "\n",
        "    # Print DataFrame details\n",
        "    print(df.info())\n",
        "    print(df.head())\n",
        "else:\n",
        "    print(\"Error: 'Time Series (5min)' not found in the API response.\")\n",
        "    print(data)  # Print the response for debugging\n"
      ]
    },
    {
      "cell_type": "code",
      "execution_count": null,
      "metadata": {
        "colab": {
          "base_uri": "https://localhost:8080/"
        },
        "id": "xW10lehrRFAO",
        "outputId": "ef76974a-ed57-4ae7-ac87-01163e690da0"
      },
      "outputs": [
        {
          "name": "stdout",
          "output_type": "stream",
          "text": [
            "                         Open    High       Low   Close  Volume\n",
            "2024-11-25 04:00:00  222.7500  223.31  222.7500  223.31      90\n",
            "2024-11-25 04:05:00  223.8300  223.83  223.0600  223.59     211\n",
            "2024-11-25 04:10:00  223.7200  223.84  223.2600  223.48     171\n",
            "2024-11-25 04:15:00  223.6700  223.75  223.2900  223.75     375\n",
            "2024-11-25 04:20:00  223.7000  223.71  223.3600  223.36      99\n",
            "...                       ...     ...       ...     ...     ...\n",
            "2024-12-23 19:35:00  221.7100  221.71  221.7100  221.71       1\n",
            "2024-12-23 19:40:00  221.9500  221.96  221.9400  221.94       7\n",
            "2024-12-23 19:45:00  221.8000  221.80  221.8000  221.80       1\n",
            "2024-12-23 19:50:00  222.2000  222.20  221.7900  221.79       7\n",
            "2024-12-23 19:55:00  221.6189  221.93  221.6189  221.79     353\n",
            "\n",
            "[3523 rows x 5 columns]\n"
          ]
        }
      ],
      "source": [
        "print(df)"
      ]
    },
    {
      "cell_type": "markdown",
      "metadata": {
        "id": "uDaHZwcWTPet"
      },
      "source": [
        "#Testing"
      ]
    },
    {
      "cell_type": "code",
      "execution_count": null,
      "metadata": {
        "colab": {
          "base_uri": "https://localhost:8080/",
          "height": 422
        },
        "id": "YuqJnhbLRMy4",
        "outputId": "ffda0938-1877-4b84-9e41-b28733afdf24"
      },
      "outputs": [
        {
          "name": "stdout",
          "output_type": "stream",
          "text": [
            "Fetching data for 2021-12...\n",
            "No data found for 2021-12. Response: {'Information': 'Thank you for using Alpha Vantage! Our standard API rate limit is 25 requests per day. Please subscribe to any of the premium plans at https://www.alphavantage.co/premium/ to instantly remove all daily rate limits.'}\n",
            "Fetching data for 2022-01...\n",
            "No data found for 2022-01. Response: {'Information': 'Thank you for using Alpha Vantage! Our standard API rate limit is 25 requests per day. Please subscribe to any of the premium plans at https://www.alphavantage.co/premium/ to instantly remove all daily rate limits.'}\n",
            "Fetching data for 2022-02...\n",
            "No data found for 2022-02. Response: {'Information': 'Thank you for using Alpha Vantage! Our standard API rate limit is 25 requests per day. Please subscribe to any of the premium plans at https://www.alphavantage.co/premium/ to instantly remove all daily rate limits.'}\n",
            "Fetching data for 2022-03...\n",
            "No data found for 2022-03. Response: {'Information': 'Thank you for using Alpha Vantage! Our standard API rate limit is 25 requests per day. Please subscribe to any of the premium plans at https://www.alphavantage.co/premium/ to instantly remove all daily rate limits.'}\n",
            "Fetching data for 2022-04...\n",
            "No data found for 2022-04. Response: {'Information': 'Thank you for using Alpha Vantage! Our standard API rate limit is 25 requests per day. Please subscribe to any of the premium plans at https://www.alphavantage.co/premium/ to instantly remove all daily rate limits.'}\n",
            "Reached 5 API calls. Pausing for 1 minute...\n"
          ]
        },
        {
          "ename": "KeyboardInterrupt",
          "evalue": "",
          "output_type": "error",
          "traceback": [
            "\u001b[0;31m---------------------------------------------------------------------------\u001b[0m",
            "\u001b[0;31mKeyboardInterrupt\u001b[0m                         Traceback (most recent call last)",
            "\u001b[0;32m<ipython-input-8-fc21d15f9bd0>\u001b[0m in \u001b[0;36m<cell line: 25>\u001b[0;34m()\u001b[0m\n\u001b[1;32m     64\u001b[0m     \u001b[0;32mif\u001b[0m \u001b[0mapi_calls\u001b[0m \u001b[0;34m%\u001b[0m \u001b[0;36m5\u001b[0m \u001b[0;34m==\u001b[0m \u001b[0;36m0\u001b[0m\u001b[0;34m:\u001b[0m\u001b[0;34m\u001b[0m\u001b[0;34m\u001b[0m\u001b[0m\n\u001b[1;32m     65\u001b[0m         \u001b[0mprint\u001b[0m\u001b[0;34m(\u001b[0m\u001b[0;34m\"Reached 5 API calls. Pausing for 1 minute...\"\u001b[0m\u001b[0;34m)\u001b[0m\u001b[0;34m\u001b[0m\u001b[0;34m\u001b[0m\u001b[0m\n\u001b[0;32m---> 66\u001b[0;31m         \u001b[0mtime\u001b[0m\u001b[0;34m.\u001b[0m\u001b[0msleep\u001b[0m\u001b[0;34m(\u001b[0m\u001b[0;36m60\u001b[0m\u001b[0;34m)\u001b[0m  \u001b[0;31m# Wait 60 seconds before making more requests\u001b[0m\u001b[0;34m\u001b[0m\u001b[0;34m\u001b[0m\u001b[0m\n\u001b[0m\u001b[1;32m     67\u001b[0m \u001b[0;34m\u001b[0m\u001b[0m\n\u001b[1;32m     68\u001b[0m \u001b[0;31m# Sort the combined DataFrame by date\u001b[0m\u001b[0;34m\u001b[0m\u001b[0;34m\u001b[0m\u001b[0m\n",
            "\u001b[0;31mKeyboardInterrupt\u001b[0m: "
          ]
        }
      ],
      "source": [
        "import requests\n",
        "import pandas as pd\n",
        "from datetime import datetime, timedelta\n",
        "import time\n",
        "\n",
        "# API details\n",
        "API_KEY = 'V9UWM1TL37HYVQ31'\n",
        "SYMBOL = 'AAPL'\n",
        "BASE_URL = 'https://www.alphavantage.co/query'\n",
        "\n",
        "# Define the date range\n",
        "start_date = datetime(2021, 12, 1)\n",
        "end_date = datetime(2023, 12, 1)\n",
        "\n",
        "# Generate a list of months in 'YYYY-MM' format\n",
        "months = pd.date_range(start=start_date, end=end_date, freq='MS').strftime('%Y-%m').tolist()\n",
        "\n",
        "# Initialize an empty DataFrame to store all the data\n",
        "all_data = pd.DataFrame()\n",
        "\n",
        "# Track API calls to manage rate limits\n",
        "api_calls = 0\n",
        "\n",
        "# Loop through each month and fetch data\n",
        "for month in months:\n",
        "    if api_calls >= 25:\n",
        "        print(\"Daily API limit reached. Please try again tomorrow.\")\n",
        "        break\n",
        "\n",
        "    print(f\"Fetching data for {month}...\")\n",
        "    params = {\n",
        "        'function': 'TIME_SERIES_INTRADAY',\n",
        "        'symbol': SYMBOL,\n",
        "        'interval': '5min',\n",
        "        'apikey': API_KEY,\n",
        "        'month': month,\n",
        "        'outputsize': 'full',\n",
        "        'datatype': 'json'\n",
        "    }\n",
        "    response = requests.get(BASE_URL, params=params)\n",
        "    data = response.json()\n",
        "    api_calls += 1  # Increment the API call count\n",
        "\n",
        "    # Extract the time series data\n",
        "    time_series = data.get(\"Time Series (5min)\", {})\n",
        "\n",
        "    if time_series:\n",
        "        # Convert the time series data into a DataFrame\n",
        "        df = pd.DataFrame.from_dict(time_series, orient='index')\n",
        "        df.columns = [\"Open\", \"High\", \"Low\", \"Close\", \"Volume\"]\n",
        "\n",
        "        # Convert index to datetime\n",
        "        df.index = pd.to_datetime(df.index)\n",
        "\n",
        "        # Convert all values to numeric\n",
        "        df = df.apply(pd.to_numeric, errors='coerce')\n",
        "\n",
        "        # Add the data to the main DataFrame\n",
        "        all_data = pd.concat([all_data, df])\n",
        "    else:\n",
        "        print(f\"No data found for {month}. Response: {data}\")\n",
        "\n",
        "    # Enforce API rate limit: max 5 calls per minute\n",
        "    if api_calls % 5 == 0:\n",
        "        print(\"Reached 5 API calls. Pausing for 1 minute...\")\n",
        "        time.sleep(60)  # Wait 60 seconds before making more requests\n",
        "\n",
        "# Sort the combined DataFrame by date\n",
        "all_data.sort_index(inplace=True)\n",
        "\n",
        "# Save the data to a CSV file\n",
        "csv_filename = f\"{SYMBOL}_5min_data_2021_to_2023.csv\"\n",
        "all_data.to_csv(csv_filename, index_label=\"Timestamp\")\n",
        "\n",
        "print(f\"Data successfully saved to {csv_filename}.\")\n"
      ]
    },
    {
      "cell_type": "code",
      "execution_count": null,
      "metadata": {
        "colab": {
          "base_uri": "https://localhost:8080/",
          "height": 422
        },
        "id": "XkNHOi8KTalW",
        "outputId": "64ccf55a-9ca4-427b-864e-6447b5ae136d"
      },
      "outputs": [
        {
          "name": "stdout",
          "output_type": "stream",
          "text": [
            "Fetching data for 2023-12...\n",
            "No data found for 2023-12. Response: {'Information': 'Thank you for using Alpha Vantage! Our standard API rate limit is 25 requests per day. Please subscribe to any of the premium plans at https://www.alphavantage.co/premium/ to instantly remove all daily rate limits.'}\n",
            "Fetching data for 2024-01...\n",
            "No data found for 2024-01. Response: {'Information': 'Thank you for using Alpha Vantage! Our standard API rate limit is 25 requests per day. Please subscribe to any of the premium plans at https://www.alphavantage.co/premium/ to instantly remove all daily rate limits.'}\n",
            "Fetching data for 2024-02...\n",
            "No data found for 2024-02. Response: {'Information': 'Thank you for using Alpha Vantage! Our standard API rate limit is 25 requests per day. Please subscribe to any of the premium plans at https://www.alphavantage.co/premium/ to instantly remove all daily rate limits.'}\n",
            "Fetching data for 2024-03...\n",
            "No data found for 2024-03. Response: {'Information': 'Thank you for using Alpha Vantage! Our standard API rate limit is 25 requests per day. Please subscribe to any of the premium plans at https://www.alphavantage.co/premium/ to instantly remove all daily rate limits.'}\n",
            "Fetching data for 2024-04...\n",
            "No data found for 2024-04. Response: {'Information': 'Thank you for using Alpha Vantage! Our standard API rate limit is 25 requests per day. Please subscribe to any of the premium plans at https://www.alphavantage.co/premium/ to instantly remove all daily rate limits.'}\n",
            "Reached 5 API calls. Pausing for 1 minute...\n"
          ]
        },
        {
          "ename": "KeyboardInterrupt",
          "evalue": "",
          "output_type": "error",
          "traceback": [
            "\u001b[0;31m---------------------------------------------------------------------------\u001b[0m",
            "\u001b[0;31mKeyboardInterrupt\u001b[0m                         Traceback (most recent call last)",
            "\u001b[0;32m<ipython-input-6-920a42a15958>\u001b[0m in \u001b[0;36m<cell line: 25>\u001b[0;34m()\u001b[0m\n\u001b[1;32m     64\u001b[0m     \u001b[0;32mif\u001b[0m \u001b[0mapi_calls\u001b[0m \u001b[0;34m%\u001b[0m \u001b[0;36m5\u001b[0m \u001b[0;34m==\u001b[0m \u001b[0;36m0\u001b[0m\u001b[0;34m:\u001b[0m\u001b[0;34m\u001b[0m\u001b[0;34m\u001b[0m\u001b[0m\n\u001b[1;32m     65\u001b[0m         \u001b[0mprint\u001b[0m\u001b[0;34m(\u001b[0m\u001b[0;34m\"Reached 5 API calls. Pausing for 1 minute...\"\u001b[0m\u001b[0;34m)\u001b[0m\u001b[0;34m\u001b[0m\u001b[0;34m\u001b[0m\u001b[0m\n\u001b[0;32m---> 66\u001b[0;31m         \u001b[0mtime\u001b[0m\u001b[0;34m.\u001b[0m\u001b[0msleep\u001b[0m\u001b[0;34m(\u001b[0m\u001b[0;36m60\u001b[0m\u001b[0;34m)\u001b[0m  \u001b[0;31m# Wait 60 seconds before making more requests\u001b[0m\u001b[0;34m\u001b[0m\u001b[0;34m\u001b[0m\u001b[0m\n\u001b[0m\u001b[1;32m     67\u001b[0m \u001b[0;34m\u001b[0m\u001b[0m\n\u001b[1;32m     68\u001b[0m \u001b[0;31m# Sort the combined DataFrame by date\u001b[0m\u001b[0;34m\u001b[0m\u001b[0;34m\u001b[0m\u001b[0m\n",
            "\u001b[0;31mKeyboardInterrupt\u001b[0m: "
          ]
        }
      ],
      "source": [
        "import requests\n",
        "import pandas as pd\n",
        "from datetime import datetime, timedelta\n",
        "import time\n",
        "\n",
        "# API details\n",
        "API_KEY = 'NLLJW4Y93AVKHNNR'\n",
        "SYMBOL = 'AMZN'\n",
        "BASE_URL = 'https://www.alphavantage.co/query'\n",
        "\n",
        "# Define the date range\n",
        "start_date = datetime(2023, 12, 1)\n",
        "end_date = datetime(2024, 12, 1)\n",
        "\n",
        "# Generate a list of months in 'YYYY-MM' format\n",
        "months = pd.date_range(start=start_date, end=end_date, freq='MS').strftime('%Y-%m').tolist()\n",
        "\n",
        "# Initialize an empty DataFrame to store all the data\n",
        "all_data = pd.DataFrame()\n",
        "\n",
        "# Track API calls to manage rate limits\n",
        "api_calls = 0\n",
        "\n",
        "# Loop through each month and fetch data\n",
        "for month in months:\n",
        "    if api_calls >= 25:\n",
        "        print(\"Daily API limit reached. Please try again tomorrow.\")\n",
        "        break\n",
        "\n",
        "    print(f\"Fetching data for {month}...\")\n",
        "    params = {\n",
        "        'function': 'TIME_SERIES_INTRADAY',\n",
        "        'symbol': SYMBOL,\n",
        "        'interval': '5min',\n",
        "        'apikey': API_KEY,\n",
        "        'month': month,\n",
        "        'outputsize': 'full',\n",
        "        'datatype': 'json'\n",
        "    }\n",
        "    response = requests.get(BASE_URL, params=params)\n",
        "    data = response.json()\n",
        "    api_calls += 1  # Increment the API call count\n",
        "\n",
        "    # Extract the time series data\n",
        "    time_series = data.get(\"Time Series (5min)\", {})\n",
        "\n",
        "    if time_series:\n",
        "        # Convert the time series data into a DataFrame\n",
        "        df = pd.DataFrame.from_dict(time_series, orient='index')\n",
        "        df.columns = [\"Open\", \"High\", \"Low\", \"Close\", \"Volume\"]\n",
        "\n",
        "        # Convert index to datetime\n",
        "        df.index = pd.to_datetime(df.index)\n",
        "\n",
        "        # Convert all values to numeric\n",
        "        df = df.apply(pd.to_numeric, errors='coerce')\n",
        "\n",
        "        # Add the data to the main DataFrame\n",
        "        all_data = pd.concat([all_data, df])\n",
        "    else:\n",
        "        print(f\"No data found for {month}. Response: {data}\")\n",
        "\n",
        "    # Enforce API rate limit: max 5 calls per minute\n",
        "    if api_calls % 5 == 0:\n",
        "        print(\"Reached 5 API calls. Pausing for 1 minute...\")\n",
        "        time.sleep(60)  # Wait 60 seconds before making more requests\n",
        "\n",
        "# Sort the combined DataFrame by date\n",
        "all_data.sort_index(inplace=True)\n",
        "\n",
        "# Save the data to a CSV file\n",
        "csv_filename = f\"{SYMBOL}_5min_data_2023_to_2024.csv\"\n",
        "all_data.to_csv(csv_filename, index_label=\"Timestamp\")\n",
        "\n",
        "print(f\"Data successfully saved to {csv_filename}.\")\n"
      ]
    },
    {
      "cell_type": "code",
      "execution_count": null,
      "metadata": {
        "colab": {
          "base_uri": "https://localhost:8080/"
        },
        "id": "KN0LI13GiSCv",
        "outputId": "24d7a6b1-e4dd-49f2-fd61-f736e8e84dac"
      },
      "outputs": [
        {
          "name": "stdout",
          "output_type": "stream",
          "text": [
            "Merged file saved as Merged_AAPL_5min_data.csv\n"
          ]
        }
      ],
      "source": [
        "import pandas as pd\n",
        "\n",
        "# File paths\n",
        "file1 = \"AAPL_5min_data_2021_to_2023.csv\"\n",
        "file2 = \"AAPL_5min_data_2023_to_2024.csv\"\n",
        "output_file = \"Merged_AAPL_5min_data.csv\"\n",
        "\n",
        "# Read the first CSV and its headers\n",
        "df1 = pd.read_csv(file1)\n",
        "columns = df1.columns\n",
        "\n",
        "# Read the second CSV\n",
        "df2 = pd.read_csv(file2)\n",
        "\n",
        "# Concatenate the two datasets, retaining headers from the first file\n",
        "merged_data = pd.concat([df1, df2], ignore_index=True)\n",
        "merged_data.columns = columns  # Ensure headers remain consistent\n",
        "\n",
        "# Save the merged data to a new CSV file\n",
        "merged_data.to_csv(output_file, index=False)\n",
        "\n",
        "print(f\"Merged file saved as {output_file}\")\n"
      ]
    },
    {
      "cell_type": "code",
      "execution_count": null,
      "metadata": {},
      "outputs": [],
      "source": [
        "# updating daily code below"
      ]
    },
    {
      "cell_type": "code",
      "execution_count": 7,
      "metadata": {},
      "outputs": [
        {
          "name": "stdout",
          "output_type": "stream",
          "text": [
            "Data successfully appended to data/intraday_data.csv.\n"
          ]
        }
      ],
      "source": [
        "import requests\n",
        "import pandas as pd\n",
        "import os\n",
        "from datetime import datetime\n",
        "from pytz import timezone\n",
        "\n",
        "# API details\n",
        "API_KEY = \"NLLJW4Y93AVKHNNR\"\n",
        "SYMBOL = \"IBM\"\n",
        "INTERVAL = \"5min\"\n",
        "URL = f\"https://www.alphavantage.co/query?function=TIME_SERIES_INTRADAY&symbol={SYMBOL}&interval={INTERVAL}&outputsize=full&apikey={API_KEY}\"\n",
        "\n",
        "# File path\n",
        "CSV_FILE = \"data/intraday_data.csv\"\n",
        "\n",
        "# Fetch data from the API\n",
        "response = requests.get(URL)\n",
        "data = response.json()\n",
        "\n",
        "# Extract the time series data\n",
        "time_series = data.get(\"Time Series (5min)\", {})\n",
        "\n",
        "if time_series:\n",
        "    # Convert the time series data into a DataFrame\n",
        "    df = pd.DataFrame.from_dict(time_series, orient=\"index\")\n",
        "\n",
        "    # Rename columns for better readability\n",
        "    df.columns = [\"Open\", \"High\", \"Low\", \"Close\", \"Volume\"]\n",
        "\n",
        "    # Convert index to datetime and adjust for timezone\n",
        "    df.index = pd.to_datetime(df.index)\n",
        "    df.sort_index(inplace=True)  # Ensure data is sorted by time\n",
        "\n",
        "    # Adjust to US Eastern Time (API default)\n",
        "    eastern = timezone(\"US/Eastern\")\n",
        "    df.index = df.index.tz_localize(\"US/Eastern\").tz_convert(eastern)\n",
        "\n",
        "    # Get current date in US Eastern Time\n",
        "    current_date = datetime.now(eastern).strftime(\"%Y-%m-%d\")\n",
        "\n",
        "    # # Filter for today's data\n",
        "    df = df[df.index.strftime(\"%Y-%m-%d\") == current_date]\n",
        "    \n",
        "    # test karne below code use\n",
        "    # df = df[df.index.strftime(\"%Y-%m-%d\") == \"2025-01-03\"]\n",
        "    # Convert all values to numeric\n",
        "    df = df.apply(pd.to_numeric)\n",
        "\n",
        "    # Check if the dataframe is empty\n",
        "    if df.empty:\n",
        "        print(\"No intraday data available for the current day.\")\n",
        "    else:\n",
        "        # Ensure the data folder exists\n",
        "        os.makedirs(\"data\", exist_ok=True)\n",
        "\n",
        "        # Write or append data to CSV\n",
        "        if os.path.exists(CSV_FILE):\n",
        "            # Read existing data to avoid duplicates\n",
        "            existing_df = pd.read_csv(CSV_FILE, index_col=\"Timestamp\", parse_dates=True)\n",
        "            combined_df = pd.concat([existing_df, df])\n",
        "            combined_df = combined_df[~combined_df.index.duplicated(keep=\"last\")]  # Remove duplicates\n",
        "            combined_df.to_csv(CSV_FILE)\n",
        "        else:\n",
        "            # Write new data if file doesn't exist\n",
        "            df.to_csv(CSV_FILE, index_label=\"Timestamp\")\n",
        "\n",
        "        print(f\"Data successfully appended to {CSV_FILE}.\")\n",
        "else:\n",
        "    print(\"Error: 'Time Series (5min)' not found in the API response.\")\n",
        "    print(data)  # Print the response for debugging\n"
      ]
    },
    {
      "cell_type": "code",
      "execution_count": 8,
      "metadata": {},
      "outputs": [
        {
          "name": "stdout",
          "output_type": "stream",
          "text": [
            "2025-01-06\n"
          ]
        }
      ],
      "source": [
        "print(current_date)"
      ]
    },
    {
      "cell_type": "code",
      "execution_count": null,
      "metadata": {},
      "outputs": [],
      "source": []
    }
  ],
  "metadata": {
    "colab": {
      "provenance": []
    },
    "kernelspec": {
      "display_name": "Python 3",
      "name": "python3"
    },
    "language_info": {
      "codemirror_mode": {
        "name": "ipython",
        "version": 3
      },
      "file_extension": ".py",
      "mimetype": "text/x-python",
      "name": "python",
      "nbconvert_exporter": "python",
      "pygments_lexer": "ipython3",
      "version": "3.12.2"
    }
  },
  "nbformat": 4,
  "nbformat_minor": 0
}
